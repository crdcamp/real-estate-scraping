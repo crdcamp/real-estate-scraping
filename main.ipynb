{
 "cells": [
  {
   "cell_type": "code",
   "execution_count": 2,
   "id": "3cb70e8b",
   "metadata": {},
   "outputs": [
    {
     "name": "stdout",
     "output_type": "stream",
     "text": [
      "Status code = 200\n",
      "\n",
      "Found DetailDataTable\n",
      "\n",
      "Property Description: BLDG 51 PROSPECTOR VILLAGE COMMON AREA & CLUBHOUSE FKA LOT 33 WILDERNEST FIL 2\n",
      "Physical Address: 0050 WILDERNEST CT (CR 1271) BLDG 51\n",
      "Primary Ownership: PROSPECTOR VILLAGE HOMEOWNERS ASSOC,\n",
      "Secondary Ownership: \n",
      "Mailing Address - C/O: \n",
      "Addr. cell not found\n",
      "Address - CSZ: FRISCO CO 804435265\n"
     ]
    }
   ],
   "source": [
    "import requests\n",
    "from bs4 import BeautifulSoup\n",
    "\n",
    "def find_tables(url):\n",
    "    # Send request and parse HTML\n",
    "    r = requests.get(url)\n",
    "    print(f'Status code = {r.status_code}\\n')\n",
    "    soup = BeautifulSoup(r.text, 'html.parser')\n",
    "\n",
    "    # Find tables\n",
    "    tables = {\n",
    "        'DetailData': soup.find('table', class_='DetailData'),\n",
    "        'ValueData': soup.find('table', class_='ValueData'),\n",
    "        'ImpData': soup.find('table', class_='ImpData'),\n",
    "        'LandData': soup.find('table', class_='LandData')\n",
    "    }\n",
    "\n",
    "    # Function to extract data from a table cell\n",
    "    def extract_cell_data(table, label):\n",
    "        if not table:\n",
    "            print(f\"{label} table not found\")\n",
    "            return None\n",
    "        cell = table.find('td', string=lambda text: text and label in text.strip())\n",
    "        if cell:\n",
    "            next_cell = cell.find_next('td')\n",
    "            if next_cell:\n",
    "                return next_cell.text.strip()\n",
    "            print(f\"{label} value cell not found\")\n",
    "        else:\n",
    "            print(f\"{label} cell not found\")\n",
    "        return None\n",
    "\n",
    "    # Function to process a table and extract multiple fields\n",
    "    def process_table(table, table_name, labels):\n",
    "        if table:\n",
    "            print(f\"Found {table_name}\\n\")\n",
    "            results = {}\n",
    "            for label, display_name in labels:\n",
    "                value = extract_cell_data(table, label)\n",
    "                if value is not None:  # Allow empty strings\n",
    "                    results[display_name] = value\n",
    "                    print(f\"{display_name}: {value}\")\n",
    "            return results\n",
    "        else:\n",
    "            print(f\"{table_name} not found\")\n",
    "            return {}\n",
    "\n",
    "    # Define labels to extract from DetailDataTable\n",
    "    detail_labels = [\n",
    "        ('Property Desc:', 'Property Description'),\n",
    "        ('Phys. Address:', 'Physical Address'),\n",
    "        ('Primary:', 'Primary Ownership'),\n",
    "        ('Secondary:', 'Secondary Ownership'),\n",
    "        ('C/O', 'Mailing Address - C/O'),\n",
    "        ('Addr.', 'Address'),\n",
    "        ('CSZ', 'Address - CSZ'),\n",
    "    ]\n",
    "\n",
    "    # Process DetailDataTable\n",
    "    process_table(tables['DetailData'], 'DetailDataTable', detail_labels)\n",
    "\n",
    "find_tables('https://gis.summitcountyco.gov/map/DetailData.aspx?Schno=6507888')"
   ]
  }
 ],
 "metadata": {
  "kernelspec": {
   "display_name": "Python 3",
   "language": "python",
   "name": "python3"
  },
  "language_info": {
   "codemirror_mode": {
    "name": "ipython",
    "version": 3
   },
   "file_extension": ".py",
   "mimetype": "text/x-python",
   "name": "python",
   "nbconvert_exporter": "python",
   "pygments_lexer": "ipython3",
   "version": "3.13.3"
  }
 },
 "nbformat": 4,
 "nbformat_minor": 5
}
